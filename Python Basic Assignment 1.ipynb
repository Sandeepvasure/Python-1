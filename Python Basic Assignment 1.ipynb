{
 "cells": [
  {
   "cell_type": "code",
   "execution_count": 1,
   "id": "8fa65af0",
   "metadata": {},
   "outputs": [
    {
     "data": {
      "text/plain": [
       "\"\\nQn 1 \\n\\nIn the below elements which of them are values or an expression? eg:- values can be integer or string and expressions will be mathematical operators.\\n* \\n'hello'\\n-87.8\\n- \\n/ \\n+\\t\\n6 \\n\\n\""
      ]
     },
     "execution_count": 1,
     "metadata": {},
     "output_type": "execute_result"
    }
   ],
   "source": [
    "'''\n",
    "Qn 1 \n",
    "\n",
    "In the below elements which of them are values or an expression? eg:- values can be integer or string and expressions will be mathematical operators.\n",
    "* \n",
    "'hello'\n",
    "-87.8\n",
    "- \n",
    "/ \n",
    "+\t\n",
    "6 \n",
    "\n",
    "'''"
   ]
  },
  {
   "cell_type": "code",
   "execution_count": null,
   "id": "93fb6808",
   "metadata": {},
   "outputs": [],
   "source": [
    "\n",
    "Answer\n",
    "\n",
    "*          - expression\n",
    "'hello'    - value\n",
    "-87.8      - value\n",
    "-          - expression\n",
    "/          - expression\n",
    "+\t       - expression\n",
    "6          - value\n"
   ]
  },
  {
   "cell_type": "code",
   "execution_count": null,
   "id": "799601c0",
   "metadata": {},
   "outputs": [],
   "source": []
  },
  {
   "cell_type": "code",
   "execution_count": null,
   "id": "a3f28903",
   "metadata": {},
   "outputs": [],
   "source": [
    "Qn 2 What is the difference between string and variable?"
   ]
  },
  {
   "cell_type": "code",
   "execution_count": null,
   "id": "a9536dd2",
   "metadata": {},
   "outputs": [],
   "source": [
    "Answer - \n",
    "Variable is used to store values i.e. string/integers\n",
    "String is a value assigned inside quotes\n",
    "\n",
    "Ex - \n",
    "xyz = 'inureon'\n",
    "\n",
    "xyz is a variable\n",
    "'ineuron' is a string"
   ]
  },
  {
   "cell_type": "code",
   "execution_count": null,
   "id": "bb380dbb",
   "metadata": {},
   "outputs": [],
   "source": []
  },
  {
   "cell_type": "markdown",
   "id": "df8c2ece",
   "metadata": {},
   "source": [
    "Qn 3 Describe three different data types."
   ]
  },
  {
   "cell_type": "code",
   "execution_count": null,
   "id": "c47dd2c1",
   "metadata": {},
   "outputs": [],
   "source": [
    "Answer - \n",
    "1. Integer - Used to store numeric, decimal values (positive or negative numbers)\n",
    "Ex - 1, 2, -2, -2.5, \n",
    "\n",
    "2. String - used to store alphanumeric values within quotes \n",
    "Ex - 'sandeep', 'sand2w3 wewffs 3f#'\n",
    "\n",
    "3. List - list is used to store different data types within enclosed [] seperated by a comma. The items can be referred \n",
    "          using index\n",
    "    Ex - l = [1,2,'sand', 3]\n",
    "\n",
    "4. Tuples - Tuples are similar to list but are not mutable meaning cannot be altered. These are enlcosed in () and items\n",
    "            are seperated using comma.\n",
    "    Ex - t = (1,2,'sand', 4,5)\n",
    "    \n",
    "5.Set - Collection of Unique items in unstructured order. {} are used to define a set with items seperated form commas\n",
    "    Ex - s = {1,2,3, sand,}\n",
    "\n",
    "7. Dicitonary - Used to store key value pair of items.We can store list, tuples within the dicitonary {'key' : 'value'} \n",
    "    Ex - d = {'1' : 'sand', 'x' : 3, 'y' : [1,2,3]}"
   ]
  },
  {
   "cell_type": "code",
   "execution_count": null,
   "id": "5e4a49f5",
   "metadata": {},
   "outputs": [],
   "source": []
  },
  {
   "cell_type": "code",
   "execution_count": null,
   "id": "b8021f87",
   "metadata": {},
   "outputs": [],
   "source": [
    "Qn 4. What is an expression made up of? What do all expressions do?"
   ]
  },
  {
   "cell_type": "code",
   "execution_count": null,
   "id": "adcf501e",
   "metadata": {},
   "outputs": [],
   "source": [
    "Ans - Expressions are representations of value. They are used to define a class, fuctoion, object. \n",
    "        List comprehension, dicitonary comprehnsion etc are examples of expressions"
   ]
  },
  {
   "cell_type": "code",
   "execution_count": null,
   "id": "67d832d5",
   "metadata": {},
   "outputs": [],
   "source": []
  },
  {
   "cell_type": "code",
   "execution_count": null,
   "id": "2db3efe9",
   "metadata": {},
   "outputs": [],
   "source": [
    "Qn 5. This assignment statements, like spam = 10. What is the difference between an expression and a statement?"
   ]
  },
  {
   "cell_type": "code",
   "execution_count": null,
   "id": "64673a66",
   "metadata": {},
   "outputs": [],
   "source": [
    "Ans - The main difference is expression evaluates to a value whereas statement executes something. \n",
    "        Every statement can be a expresssion but every expression is not a statement\n",
    "    Ex of expression\n",
    "    a + 10\n",
    "    \n",
    "    Ex of statement\n",
    "    x = 3\n",
    "    print(x)"
   ]
  },
  {
   "cell_type": "code",
   "execution_count": null,
   "id": "498bf297",
   "metadata": {},
   "outputs": [],
   "source": [
    "Qn 6\n",
    "After running the following code, what does the variable bacon contain?\n",
    "bacon = 22\n",
    "bacon + 1\n"
   ]
  },
  {
   "cell_type": "code",
   "execution_count": 7,
   "id": "55740521",
   "metadata": {},
   "outputs": [
    {
     "data": {
      "text/plain": [
       "23"
      ]
     },
     "execution_count": 7,
     "metadata": {},
     "output_type": "execute_result"
    }
   ],
   "source": [
    "# Answer -  Since it's a int class, result will be 23\n",
    "bacon = 22\n",
    "bacon + 1"
   ]
  },
  {
   "cell_type": "code",
   "execution_count": 8,
   "id": "f3d4fd9d",
   "metadata": {},
   "outputs": [
    {
     "data": {
      "text/plain": [
       "int"
      ]
     },
     "execution_count": 8,
     "metadata": {},
     "output_type": "execute_result"
    }
   ],
   "source": [
    "type(bacon)"
   ]
  },
  {
   "cell_type": "code",
   "execution_count": null,
   "id": "989dc297",
   "metadata": {},
   "outputs": [],
   "source": []
  },
  {
   "cell_type": "code",
   "execution_count": null,
   "id": "5f27e0cb",
   "metadata": {},
   "outputs": [],
   "source": [
    "Qn 7.\n",
    "What should the values of the following two terms be?\n",
    "'spam' + 'spamspam'\n",
    "'spam' * 3"
   ]
  },
  {
   "cell_type": "code",
   "execution_count": 3,
   "id": "b2078b7c",
   "metadata": {},
   "outputs": [
    {
     "data": {
      "text/plain": [
       "'spamspamspam'"
      ]
     },
     "execution_count": 3,
     "metadata": {},
     "output_type": "execute_result"
    }
   ],
   "source": [
    "# Answer\n",
    "# string concatenation\n",
    "'spam' + 'spamspam' "
   ]
  },
  {
   "cell_type": "code",
   "execution_count": 4,
   "id": "f9215c90",
   "metadata": {},
   "outputs": [
    {
     "data": {
      "text/plain": [
       "'spamspamspam'"
      ]
     },
     "execution_count": 4,
     "metadata": {},
     "output_type": "execute_result"
    }
   ],
   "source": [
    "# string will be repeated thrice\n",
    "'spam' * 3"
   ]
  },
  {
   "cell_type": "code",
   "execution_count": null,
   "id": "52e1d360",
   "metadata": {},
   "outputs": [],
   "source": []
  }
 ],
 "metadata": {
  "kernelspec": {
   "display_name": "Python 3 (ipykernel)",
   "language": "python",
   "name": "python3"
  },
  "language_info": {
   "codemirror_mode": {
    "name": "ipython",
    "version": 3
   },
   "file_extension": ".py",
   "mimetype": "text/x-python",
   "name": "python",
   "nbconvert_exporter": "python",
   "pygments_lexer": "ipython3",
   "version": "3.9.7"
  }
 },
 "nbformat": 4,
 "nbformat_minor": 5
}
