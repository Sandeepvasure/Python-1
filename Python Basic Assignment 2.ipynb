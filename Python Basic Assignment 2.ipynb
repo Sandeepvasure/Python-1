{
 "cells": [
  {
   "cell_type": "markdown",
   "id": "7807cdde",
   "metadata": {},
   "source": [
    "# Qn1. What are the two values of the Boolean data type? How do you write them?"
   ]
  },
  {
   "cell_type": "markdown",
   "id": "c666e215",
   "metadata": {},
   "source": [
    "Ans - True and False are are the two values of the Boolean data type. \n"
   ]
  },
  {
   "cell_type": "code",
   "execution_count": 1,
   "id": "1dea0f3b",
   "metadata": {},
   "outputs": [
    {
     "data": {
      "text/plain": [
       "False"
      ]
     },
     "execution_count": 1,
     "metadata": {},
     "output_type": "execute_result"
    }
   ],
   "source": [
    "2 <1"
   ]
  },
  {
   "cell_type": "code",
   "execution_count": 2,
   "id": "df1f006b",
   "metadata": {},
   "outputs": [
    {
     "data": {
      "text/plain": [
       "True"
      ]
     },
     "execution_count": 2,
     "metadata": {},
     "output_type": "execute_result"
    }
   ],
   "source": [
    "2 > 1"
   ]
  },
  {
   "cell_type": "code",
   "execution_count": 10,
   "id": "6ebe8b93",
   "metadata": {},
   "outputs": [
    {
     "name": "stdout",
     "output_type": "stream",
     "text": [
      "True\n"
     ]
    }
   ],
   "source": [
    "a = 5\n",
    "b = 5\n",
    "print(bool(a==5))"
   ]
  },
  {
   "cell_type": "markdown",
   "id": "ef343c40",
   "metadata": {},
   "source": [
    "# Qn 2. What are the three different types of Boolean operators ?"
   ]
  },
  {
   "cell_type": "markdown",
   "id": "9a003d95",
   "metadata": {},
   "source": [
    "Ans - \n",
    "1. Comparison operator - \n",
    "Ex - ==, != , >, <, >=, <=\n",
    "\n",
    "2. Binary operator -\n",
    "Ex - True and False, True or False\n",
    "\n",
    "3. Not operator\n",
    "Ex - a= True\n",
    "    not a "
   ]
  },
  {
   "cell_type": "code",
   "execution_count": null,
   "id": "1a9def47",
   "metadata": {},
   "outputs": [],
   "source": []
  },
  {
   "cell_type": "markdown",
   "id": "f61dc3b8",
   "metadata": {},
   "source": [
    "# Qn 3. Make a list of each Boolean operator's truth tables (i.e. every possible combination of Boolean values for the operator and what it evaluate )."
   ]
  },
  {
   "cell_type": "code",
   "execution_count": 11,
   "id": "6f0f82e0",
   "metadata": {},
   "outputs": [],
   "source": [
    "# comparison operator"
   ]
  },
  {
   "cell_type": "code",
   "execution_count": 12,
   "id": "df67f470",
   "metadata": {},
   "outputs": [
    {
     "data": {
      "text/plain": [
       "True"
      ]
     },
     "execution_count": 12,
     "metadata": {},
     "output_type": "execute_result"
    }
   ],
   "source": [
    "a =5 \n",
    "a == 5"
   ]
  },
  {
   "cell_type": "code",
   "execution_count": 13,
   "id": "4c842bce",
   "metadata": {},
   "outputs": [
    {
     "data": {
      "text/plain": [
       "False"
      ]
     },
     "execution_count": 13,
     "metadata": {},
     "output_type": "execute_result"
    }
   ],
   "source": [
    "a < 3"
   ]
  },
  {
   "cell_type": "code",
   "execution_count": 14,
   "id": "92316eb4",
   "metadata": {},
   "outputs": [],
   "source": [
    "# Binary operator"
   ]
  },
  {
   "cell_type": "code",
   "execution_count": 15,
   "id": "443f02aa",
   "metadata": {},
   "outputs": [
    {
     "data": {
      "text/plain": [
       "True"
      ]
     },
     "execution_count": 15,
     "metadata": {},
     "output_type": "execute_result"
    }
   ],
   "source": [
    "True and True"
   ]
  },
  {
   "cell_type": "code",
   "execution_count": 16,
   "id": "2d21b8cc",
   "metadata": {},
   "outputs": [
    {
     "data": {
      "text/plain": [
       "False"
      ]
     },
     "execution_count": 16,
     "metadata": {},
     "output_type": "execute_result"
    }
   ],
   "source": [
    "True and False"
   ]
  },
  {
   "cell_type": "code",
   "execution_count": 17,
   "id": "26065eaf",
   "metadata": {},
   "outputs": [
    {
     "data": {
      "text/plain": [
       "True"
      ]
     },
     "execution_count": 17,
     "metadata": {},
     "output_type": "execute_result"
    }
   ],
   "source": [
    "True or True"
   ]
  },
  {
   "cell_type": "code",
   "execution_count": 18,
   "id": "45630a7e",
   "metadata": {},
   "outputs": [
    {
     "data": {
      "text/plain": [
       "True"
      ]
     },
     "execution_count": 18,
     "metadata": {},
     "output_type": "execute_result"
    }
   ],
   "source": [
    "True or False"
   ]
  },
  {
   "cell_type": "code",
   "execution_count": 19,
   "id": "f1c8c0f6",
   "metadata": {},
   "outputs": [
    {
     "data": {
      "text/plain": [
       "False"
      ]
     },
     "execution_count": 19,
     "metadata": {},
     "output_type": "execute_result"
    }
   ],
   "source": [
    "False or False"
   ]
  },
  {
   "cell_type": "code",
   "execution_count": 20,
   "id": "fe8880f9",
   "metadata": {},
   "outputs": [
    {
     "data": {
      "text/plain": [
       "False"
      ]
     },
     "execution_count": 20,
     "metadata": {},
     "output_type": "execute_result"
    }
   ],
   "source": [
    "False and False"
   ]
  },
  {
   "cell_type": "code",
   "execution_count": 21,
   "id": "6d8779e9",
   "metadata": {},
   "outputs": [],
   "source": [
    "# Not operator"
   ]
  },
  {
   "cell_type": "code",
   "execution_count": 22,
   "id": "da27276b",
   "metadata": {},
   "outputs": [
    {
     "data": {
      "text/plain": [
       "False"
      ]
     },
     "execution_count": 22,
     "metadata": {},
     "output_type": "execute_result"
    }
   ],
   "source": [
    "a = True\n",
    "not a"
   ]
  },
  {
   "cell_type": "code",
   "execution_count": 23,
   "id": "c78d6259",
   "metadata": {},
   "outputs": [
    {
     "data": {
      "text/plain": [
       "True"
      ]
     },
     "execution_count": 23,
     "metadata": {},
     "output_type": "execute_result"
    }
   ],
   "source": [
    "not not not not a"
   ]
  },
  {
   "cell_type": "code",
   "execution_count": null,
   "id": "00af20a2",
   "metadata": {},
   "outputs": [],
   "source": []
  },
  {
   "cell_type": "markdown",
   "id": "40a591f2",
   "metadata": {},
   "source": [
    "# Qn 4. What are the values of the following expressions?\n",
    "\n",
    "(5 > 4) and (3 == 5) -------------------> False\n",
    "\n",
    "not (5 > 4)   --------------------------->  False\n",
    "\n",
    "(5 > 4) or (3 == 5) ---------------------> True\n",
    "\n",
    "not ((5 > 4) or (3 == 5)) --------------- > False\n",
    "\n",
    "(True and True) and (True == False) ------> False\n",
    "\n",
    "(not False) or (not True) ----------------> True\n",
    "\n"
   ]
  },
  {
   "cell_type": "code",
   "execution_count": null,
   "id": "309257bd",
   "metadata": {},
   "outputs": [],
   "source": []
  },
  {
   "cell_type": "markdown",
   "id": "db04ac32",
   "metadata": {},
   "source": [
    "# Qn 5. What are the six comparison operators?\n",
    "\n",
    "Ans\n",
    "\n",
    "1. '==' (Equal)\n",
    "2. '>'(Greater than)\n",
    "3. '<'(Less than)\n",
    "4. '>=' (Greater than equal to)\n",
    "5. '<=' (Less than equal to)\n",
    "6. '!=' (not equal to)\n"
   ]
  },
  {
   "cell_type": "markdown",
   "id": "b04728b3",
   "metadata": {},
   "source": [
    "# Qn 6 How do you tell the difference between the equal to and assignment operators?Describe a condition and when you would use one.\n",
    "\n",
    "Answer - Assignment operators are used to assing a value to the variable whereas equal to is used to compare two values or variables. Equal operator results in either 'True' or 'False'.\n",
    "\n",
    "Ex -\n",
    "a = 5, b = 10 (a and b are assigned values 5 and 10 respectively)\n",
    "\n",
    "a == b (here equal operator is used to compare two values and end result is 'False')\n"
   ]
  },
  {
   "cell_type": "markdown",
   "id": "6663c75d",
   "metadata": {},
   "source": [
    "# Qn 7. Identify the three blocks in this code:\n",
    "\n",
    "spam = 0\n",
    "if spam == 10:\n",
    "print('eggs')\n",
    "if spam > 5:\n",
    "print('bacon')\n",
    "else:\n",
    "print('ham')\n",
    "print('spam')\n",
    "print('spam')\n",
    "\n",
    "Answer - \n",
    "\n",
    "first block - \n",
    "spam = 0\n",
    "\n",
    "Second block -\n",
    "if spam == 10:\n",
    "print('eggs')\n",
    "\n",
    "Third block -\n",
    "if spam > 5:\n",
    "print('bacon')\n",
    "else:\n",
    "print('ham')\n",
    "print('spam')\n",
    "print('spam')\n",
    "\n"
   ]
  },
  {
   "cell_type": "code",
   "execution_count": null,
   "id": "1077f2a9",
   "metadata": {},
   "outputs": [],
   "source": []
  },
  {
   "cell_type": "markdown",
   "id": "5de7dedb",
   "metadata": {},
   "source": [
    "# Qn 8 . Write code that prints Hello if 1 is stored in spam, prints Howdy if 2 is stored in spam, and prints Greetings! if anything else is stored in spam."
   ]
  },
  {
   "cell_type": "code",
   "execution_count": 46,
   "id": "b8d75517",
   "metadata": {},
   "outputs": [
    {
     "name": "stdout",
     "output_type": "stream",
     "text": [
      "1\n",
      "Greetings!\n"
     ]
    }
   ],
   "source": [
    "# Answer - \n",
    "\n",
    "spam = input()\n",
    "if spam == 1 :\n",
    "    print('Hello')\n",
    "elif spam == 2 :\n",
    "    print('Howdy')\n",
    "else :\n",
    "    print('Greetings!')\n"
   ]
  },
  {
   "cell_type": "code",
   "execution_count": null,
   "id": "3b1a2338",
   "metadata": {},
   "outputs": [],
   "source": []
  },
  {
   "cell_type": "markdown",
   "id": "51f6f01a",
   "metadata": {},
   "source": [
    "# Qn 9. If your programme is stuck in an endless loop, what keys you’ll press\n",
    "\n",
    "Answer - The button which signifies 'Interrupt the Kernel' or 'Ctrl-C'"
   ]
  },
  {
   "cell_type": "markdown",
   "id": "294913ab",
   "metadata": {},
   "source": [
    "# Qn 10. How can you tell the difference between break and continue?\n",
    "\n",
    "Answer - \n",
    "\n",
    "Break - The break statement is used to terminate the loop midway if certain condition is met. Once break is executed, it\n",
    "         will exit the loop and execute the next statement\n",
    "  \n",
    "Continue - The continue statement will take the control to the start of the loop if the condition is meet.\n",
    "\n",
    "Examples of break and continue stmt\n",
    "     "
   ]
  },
  {
   "cell_type": "code",
   "execution_count": 81,
   "id": "54558b95",
   "metadata": {},
   "outputs": [
    {
     "name": "stdout",
     "output_type": "stream",
     "text": [
      "0\n",
      "1\n",
      "2\n",
      "3\n",
      "4\n",
      "Example of break\n"
     ]
    }
   ],
   "source": [
    "# Break :-\n",
    "\n",
    "for i in range(0,10) :\n",
    "    if i == 5 :\n",
    "        break\n",
    "    print(i)\n",
    "print(\"Example of break\")"
   ]
  },
  {
   "cell_type": "code",
   "execution_count": 82,
   "id": "e8bebba5",
   "metadata": {},
   "outputs": [
    {
     "name": "stdout",
     "output_type": "stream",
     "text": [
      "0\n",
      "1\n",
      "2\n",
      "3\n",
      "4\n",
      "6\n",
      "7\n",
      "8\n",
      "9\n",
      "Example of break\n"
     ]
    }
   ],
   "source": [
    "# Continue :-\n",
    "\n",
    "for i in range(0,10) :\n",
    "    if i == 5 :\n",
    "        continue\n",
    "    print(i)\n",
    "print(\"Example of break\")"
   ]
  },
  {
   "cell_type": "markdown",
   "id": "9fd5e2cc",
   "metadata": {},
   "source": [
    "# Qn 11. In a for loop, what is the difference between range(10), range(0, 10), and range(0, 10, 1)?\n",
    "\n",
    "Answer - \n",
    "All three mean the same thing  - range(10), range(0, 10), and range(0, 10, 1) in a for loops\n",
    "\n",
    "Examples shown below"
   ]
  },
  {
   "cell_type": "code",
   "execution_count": 66,
   "id": "4cd422dd",
   "metadata": {},
   "outputs": [
    {
     "name": "stdout",
     "output_type": "stream",
     "text": [
      "1\n",
      "2\n",
      "3\n",
      "4\n",
      "5\n",
      "6\n",
      "7\n",
      "8\n",
      "9\n",
      "10\n"
     ]
    }
   ],
   "source": [
    "i = 0\n",
    "for i in range(10) :\n",
    "    i+=1\n",
    "    print(i)"
   ]
  },
  {
   "cell_type": "code",
   "execution_count": 69,
   "id": "6938adc6",
   "metadata": {},
   "outputs": [
    {
     "name": "stdout",
     "output_type": "stream",
     "text": [
      "1\n",
      "2\n",
      "3\n",
      "4\n",
      "5\n",
      "6\n",
      "7\n",
      "8\n",
      "9\n",
      "10\n"
     ]
    }
   ],
   "source": [
    "i = 0\n",
    "for i in range(0,10) :\n",
    "    i+=1\n",
    "    print(i)"
   ]
  },
  {
   "cell_type": "code",
   "execution_count": 70,
   "id": "6a5f5f24",
   "metadata": {},
   "outputs": [
    {
     "name": "stdout",
     "output_type": "stream",
     "text": [
      "1\n",
      "2\n",
      "3\n",
      "4\n",
      "5\n",
      "6\n",
      "7\n",
      "8\n",
      "9\n",
      "10\n"
     ]
    }
   ],
   "source": [
    "i = 0\n",
    "for i in range(0,10,1) :\n",
    "    i+=1\n",
    "    print(i)"
   ]
  },
  {
   "cell_type": "markdown",
   "id": "9db9c24a",
   "metadata": {},
   "source": [
    "# Qn 12. Write a short program that prints the numbers 1 to 10 using a for loop. Then write an equivalent program that prints the numbers 1 to 10 using a while loop"
   ]
  },
  {
   "cell_type": "code",
   "execution_count": 61,
   "id": "f8f5def3",
   "metadata": {},
   "outputs": [
    {
     "name": "stdout",
     "output_type": "stream",
     "text": [
      "1\n",
      "2\n",
      "3\n",
      "4\n",
      "5\n",
      "6\n",
      "7\n",
      "8\n",
      "9\n",
      "10\n"
     ]
    }
   ],
   "source": [
    "i = 0\n",
    "for i in range(10) :\n",
    "    i+=1\n",
    "    print(i)"
   ]
  },
  {
   "cell_type": "code",
   "execution_count": 63,
   "id": "82bd84f3",
   "metadata": {},
   "outputs": [
    {
     "name": "stdout",
     "output_type": "stream",
     "text": [
      "1\n",
      "2\n",
      "3\n",
      "4\n",
      "5\n",
      "6\n",
      "7\n",
      "8\n",
      "9\n",
      "10\n"
     ]
    }
   ],
   "source": [
    "i = 0\n",
    "while i < 10 :\n",
    "    i+=1\n",
    "    print(i)"
   ]
  },
  {
   "cell_type": "code",
   "execution_count": null,
   "id": "bc5d5253",
   "metadata": {},
   "outputs": [],
   "source": []
  },
  {
   "cell_type": "markdown",
   "id": "678fe1b5",
   "metadata": {},
   "source": [
    "# Qn 13 If you had a function named bacon() inside a module named spam, how would you call it after importing spam?\n",
    "\n",
    "Answer - \n",
    "\n",
    "from spam import *\n",
    "\n",
    "bacon()"
   ]
  },
  {
   "cell_type": "code",
   "execution_count": null,
   "id": "cbd35773",
   "metadata": {},
   "outputs": [],
   "source": []
  }
 ],
 "metadata": {
  "kernelspec": {
   "display_name": "Python 3 (ipykernel)",
   "language": "python",
   "name": "python3"
  },
  "language_info": {
   "codemirror_mode": {
    "name": "ipython",
    "version": 3
   },
   "file_extension": ".py",
   "mimetype": "text/x-python",
   "name": "python",
   "nbconvert_exporter": "python",
   "pygments_lexer": "ipython3",
   "version": "3.9.7"
  }
 },
 "nbformat": 4,
 "nbformat_minor": 5
}
